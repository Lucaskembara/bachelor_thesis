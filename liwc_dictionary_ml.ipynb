{
 "cells": [
  {
   "cell_type": "code",
   "execution_count": null,
   "metadata": {},
   "outputs": [],
   "source": [
    "import pandas as pd\n",
    "import numpy as np\n",
    "\n",
    "# Reading in the data\n",
    "liwc_train = pd.read_csv(\"data/data_final/train_data_liwc.csv\")\n",
    "liwc_test = pd.read_csv(\"data/data_final/test_data_liwc.csv\")\n",
    "y_train = pd.read_csv(\"data/data_final/train_y.csv\").to_numpy()\n",
    "y_test = pd.read_csv(\"data/data_final/test_y.csv\").to_numpy()"
   ]
  },
  {
   "cell_type": "code",
   "execution_count": null,
   "metadata": {},
   "outputs": [],
   "source": [
    "from sklearn.model_selection import GridSearchCV\n",
    "from sklearn.svm import SVC\n",
    "\n",
    "rf_base = SVC(random_state = 1)\n",
    "\n",
    "param_grid = [\n",
    "      {'C': [1, 10, 100, 1000], 'kernel': ['linear']},\n",
    "      {'C': [1, 10, 100, 1000], 'degree': [1, 2], 'gamma': [0.1, 0.01, 0.001, 0.0001], 'kernel': ['poly']},\n",
    "      {'C': [1, 10, 100, 1000], 'degree': [1, 2], 'gamma': [0.1, 0.01, 0.001, 0.0001], 'kernel': ['rbf']},\n",
    "      {'C': [1, 10, 100, 1000], 'gamma': [0.1, 0.01, 0.001, 0.0001], 'kernel': ['sigmoid']}\n",
    "     ]\n",
    "\n",
    "rf_random = GridSearchCV(\n",
    "        SVC(), param_grid, scoring= 'f1', cv = 3, verbose = 10, n_jobs = -1\n",
    "        )\n",
    "\n",
    "rf_random.fit(liwc_train, y_train.ravel())\n",
    "\n",
    "print(rf_random.best_params_)"
   ]
  },
  {
   "cell_type": "code",
   "execution_count": null,
   "metadata": {},
   "outputs": [],
   "source": [
    "from sklearn.svm import SVC\n",
    "from sklearn.metrics import classification_report\n",
    "\n",
    "test_model = SVC(kernel = 'rbf', C = 1000, gamma = 0.0001, degree = 1)\n",
    "test_model.fit(liwc_train, y_train.ravel())\n",
    "y_true, y_pred = y_test.ravel(), test_model.predict(liwc_test)\n",
    "print(classification_report(y_true, y_pred))"
   ]
  },
  {
   "cell_type": "code",
   "execution_count": null,
   "metadata": {},
   "outputs": [],
   "source": [
    "import matplotlib.pyplot as plt\n",
    "import itertools   \n",
    "from sklearn.metrics import confusion_matrix\n",
    "cf = confusion_matrix(y_true, y_pred, labels=None, sample_weight=None, normalize=None)\n",
    "\n",
    "plt.imshow(cf,cmap=plt.cm.Blues,interpolation='nearest')\n",
    "plt.colorbar()\n",
    "plt.xlabel('Predicted')\n",
    "plt.ylabel('Actual')\n",
    "tick_marks = np.arange(len(set(y_pred)))\n",
    "class_labels = ['0','1']\n",
    "tick_marks\n",
    "plt.xticks(tick_marks,class_labels)\n",
    "plt.yticks(tick_marks,class_labels)\n",
    "thresh = cf.max() / 2.\n",
    "for i,j in itertools.product(range(cf.shape[0]),range(cf.shape[1])):\n",
    "    plt.text(j,i,format(cf[i,j],'d'),horizontalalignment='center',color='white' if cf[i,j] >thresh else 'black')\n",
    "plt.show();"
   ]
  }
 ],
 "metadata": {
  "kernelspec": {
   "display_name": "Python 3",
   "language": "python",
   "name": "python3"
  },
  "language_info": {
   "codemirror_mode": {
    "name": "ipython",
    "version": 3
   },
   "file_extension": ".py",
   "mimetype": "text/x-python",
   "name": "python",
   "nbconvert_exporter": "python",
   "pygments_lexer": "ipython3",
   "version": "3.8.5"
  }
 },
 "nbformat": 4,
 "nbformat_minor": 4
}
